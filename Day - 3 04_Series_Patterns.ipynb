{
 "cells": [
  {
   "cell_type": "markdown",
   "metadata": {},
   "source": [
    "# Series Pattern Programs"
   ]
  },
  {
   "attachments": {
    "Arithmetic%20Series.jpg": {
     "image/jpeg": "[encoded data removed]"
    }
   },
   "cell_type": "markdown",
   "metadata": {},
   "source": [
    "![Arithmetic%20Series.jpg](attachment:Arithmetic%20Series.jpg)"
   ]
  },
  {
   "cell_type": "code",
   "execution_count": 1,
   "metadata": {},
   "outputs": [
    {
     "name": "stdout",
     "output_type": "stream",
     "text": [
      " 1 4 7 10 13"
     ]
    }
   ],
   "source": [
    "\"\"\"\n",
    "If a sequence of values follows a pattern of adding a fixed amount from one term to the next, it is referred to as an arithmetic sequence. The number added to each term is constant is called as the common difference, d.\n",
    "\n",
    "e.g.\n",
    "\n",
    "1, 4, 7, 10, 13, 16, ...\n",
    "\n",
    "An arithmetic sequence starts with term(a) 1 and having common difference (d) of 3.\n",
    "\n",
    "\"\"\"\n",
    "\n",
    "n = 5  # limit or size\n",
    "d = 3  # common diff\n",
    "a = 1  # terms\n",
    "\n",
    "for x in range(1, n + 1):\n",
    "    print(\" \" + str(a), end=\"\")\n",
    "    a = a + d\n",
    "\n",
    "    \"\"\"\n",
    " OUTPUT:\n",
    "\n",
    " 1 4 7 10 13\n",
    "\n",
    "    \"\"\""
   ]
  },
  {
   "attachments": {
    "Geometric%20Series.jpg": {
     "image/jpeg": "[encoded data removed]"
    }
   },
   "cell_type": "markdown",
   "metadata": {},
   "source": [
    "![Geometric%20Series.jpg](attachment:Geometric%20Series.jpg)"
   ]
  },
  {
   "cell_type": "code",
   "execution_count": 2,
   "metadata": {},
   "outputs": [
    {
     "name": "stdout",
     "output_type": "stream",
     "text": [
      " 5 10 20 40 80"
     ]
    }
   ],
   "source": [
    "\"\"\"\n",
    "If a sequence of values follows a pattern of multiplying a fixed amount times each term to arrive at the following term, it is referred to as a  geometric sequence. The number multiplied each time is constant and  is called as the common ratio, r.\n",
    "e.g.\n",
    "\n",
    " 2, 6, 18, 54, ...\n",
    "\n",
    "An geometric sequence starts with term(a) 2 and having common ratio (r) of 3.\n",
    "\n",
    "\"\"\"\n",
    "\n",
    "n = 5  # limit or size\n",
    "r = 2  # common ratio\n",
    "a = 5  # terms\n",
    "\n",
    "for x in range(1, n + 1):\n",
    "    print(\" \" + str(a), end=\"\")\n",
    "    a = a * r\n",
    "\n",
    "    \"\"\"\n",
    " OUTPUT:\n",
    "\n",
    " 5 10 20 40 80\n",
    "\n",
    "    \"\"\""
   ]
  },
  {
   "attachments": {
    "Odd%20Number%20Series.jpg": {
     "image/jpeg": "[encoded data removed]"
    }
   },
   "cell_type": "markdown",
   "metadata": {},
   "source": [
    "![Odd%20Number%20Series.jpg](attachment:Odd%20Number%20Series.jpg)"
   ]
  },
  {
   "cell_type": "code",
   "execution_count": 3,
   "metadata": {},
   "outputs": [
    {
     "name": "stdout",
     "output_type": "stream",
     "text": [
      " 1 3 5 7 9"
     ]
    }
   ],
   "source": [
    "n = 5  # limit or size\n",
    "\n",
    "for x in range(1, n + 1):\n",
    "    print(\" \" + str(2 * x - 1), end=\"\")\n",
    "\n",
    "    \"\"\"\n",
    " OUTPUT:\n",
    "\n",
    " 1 3 5 7 9\n",
    "\n",
    "    \"\"\""
   ]
  },
  {
   "attachments": {
    "Even%20Number%20Series.jpg": {
     "image/jpeg": "[encoded data removed]"
    }
   },
   "cell_type": "markdown",
   "metadata": {},
   "source": [
    "![Even%20Number%20Series.jpg](attachment:Even%20Number%20Series.jpg)"
   ]
  },
  {
   "cell_type": "code",
   "execution_count": 4,
   "metadata": {},
   "outputs": [
    {
     "name": "stdout",
     "output_type": "stream",
     "text": [
      " 2 4 6 8 10"
     ]
    }
   ],
   "source": [
    "n = 5  # limit or size\n",
    "\n",
    "for x in range(1, n + 1):\n",
    "    print(\" \" + str(2 * x), end=\"\")\n",
    "\n",
    "    \"\"\"\n",
    " OUTPUT:\n",
    "\n",
    " 2 4 6 8 10\n",
    "\n",
    "    \"\"\""
   ]
  },
  {
   "attachments": {
    "Square%20Numbers%20Series.jpg": {
     "image/jpeg": "[encoded data removed]"
    }
   },
   "cell_type": "markdown",
   "metadata": {},
   "source": [
    "![Square%20Numbers%20Series.jpg](attachment:Square%20Numbers%20Series.jpg)"
   ]
  },
  {
   "cell_type": "code",
   "execution_count": 5,
   "metadata": {},
   "outputs": [
    {
     "name": "stdout",
     "output_type": "stream",
     "text": [
      " 1 4 9 16 25"
     ]
    }
   ],
   "source": [
    "n = 5  # limit or size\n",
    "\n",
    "for x in range(1, n + 1):\n",
    "    print(\" \" + str(x * x), end=\"\")\n",
    "\n",
    "    \"\"\"\n",
    " OUTPUT:\n",
    "\n",
    " 1 4 9 16 25\n",
    "\n",
    "    \"\"\""
   ]
  },
  {
   "attachments": {
    "Cube%20Numbers%20Series.jpg": {
     "image/jpeg": "[encoded data removed]"
    }
   },
   "cell_type": "markdown",
   "metadata": {},
   "source": [
    "![Cube%20Numbers%20Series.jpg](attachment:Cube%20Numbers%20Series.jpg)"
   ]
  },
  {
   "cell_type": "code",
   "execution_count": 6,
   "metadata": {},
   "outputs": [
    {
     "name": "stdout",
     "output_type": "stream",
     "text": [
      " 1 8 27 64 125"
     ]
    }
   ],
   "source": [
    "n = 5  # limit or size\n",
    "\n",
    "for x in range(1, n + 1):\n",
    "    print(\" \" + str(x * x * x), end=\"\")\n",
    "\n",
    "    \"\"\"\n",
    " OUTPUT:\n",
    "\n",
    " 1 8 27 64 125\n",
    "\n",
    "    \"\"\""
   ]
  },
  {
   "attachments": {
    "Fibonacci%20Series.jpg": {
     "image/jpeg": "[encoded data removed]"
    }
   },
   "cell_type": "markdown",
   "metadata": {},
   "source": [
    "![Fibonacci%20Series.jpg](attachment:Fibonacci%20Series.jpg)"
   ]
  },
  {
   "cell_type": "code",
   "execution_count": 7,
   "metadata": {},
   "outputs": [
    {
     "name": "stdout",
     "output_type": "stream",
     "text": [
      " 1 1 2 3 5 8 13"
     ]
    }
   ],
   "source": [
    "n = 15  # upper limit\n",
    "a = 0\n",
    "b = 1\n",
    "c = a + b\n",
    "while (c <= n):\n",
    "    print(\" \" + str(c), end=\"\")\n",
    "    c = a + b\n",
    "    a = b\n",
    "    b = c\n",
    "\n",
    "    \"\"\"\n",
    " OUTPUT:\n",
    "\n",
    " 1 1 2 3 5 8 13\n",
    "\n",
    "    \"\"\""
   ]
  },
  {
   "attachments": {
    "Prime%20Numbers%20Series.jpg": {
     "image/jpeg": "[encoded data removed]"
    }
   },
   "cell_type": "markdown",
   "metadata": {},
   "source": [
    "![Prime%20Numbers%20Series.jpg](attachment:Prime%20Numbers%20Series.jpg)"
   ]
  },
  {
   "cell_type": "code",
   "execution_count": 8,
   "metadata": {},
   "outputs": [
    {
     "name": "stdout",
     "output_type": "stream",
     "text": [
      " 2 3 5 7"
     ]
    }
   ],
   "source": [
    "\"\"\"\n",
    "In this program, we print the series of prime numbers up to 'n'.\n",
    "* First we check each number (1 to n) for prime number.\n",
    "* If the number is prime we print it.\n",
    "\"\"\"\n",
    "\n",
    "n = 10  # size\n",
    "num = 1\n",
    "count = 0\n",
    "\n",
    "while (num <= n):\n",
    "    for x in range(1, num + 1):\n",
    "        if (num % x == 0):\n",
    "            count += 1\n",
    "    if (count == 2):  # true for prime\n",
    "        print(\" \" + str(num), end=\"\")\n",
    "    count = 0\n",
    "    num += 1\n",
    "\n",
    "    \"\"\"\n",
    " OUTPUT:\n",
    "\n",
    " 2 3 5 7\n",
    "\n",
    "    \"\"\""
   ]
  },
  {
   "attachments": {
    "Triangular%20Numbers%20Series.jpg": {
     "image/jpeg": "[encoded data removed]"
    }
   },
   "cell_type": "markdown",
   "metadata": {},
   "source": [
    "![Triangular%20Numbers%20Series.jpg](attachment:Triangular%20Numbers%20Series.jpg)"
   ]
  },
  {
   "cell_type": "code",
   "execution_count": 9,
   "metadata": {},
   "outputs": [
    {
     "name": "stdout",
     "output_type": "stream",
     "text": [
      " 1 3 6 10 15"
     ]
    }
   ],
   "source": [
    "\"\"\"\n",
    " The sequence which is generated from a pattern of dots which form a triangle is known as Triangular Number Sequence.\n",
    "\"\"\"\n",
    "\n",
    "n = 5  # size\n",
    "\n",
    "for x in range(1, n + 1):\n",
    "    num = (x * (x + 1)) // 2\n",
    "    print(\" \" + str(num), end=\"\")\n",
    "\n",
    "    \"\"\"\n",
    " OUTPUT:\n",
    "\n",
    " 1 3 6 10 15\n",
    "\n",
    "    \"\"\""
   ]
  },
  {
   "cell_type": "code",
   "execution_count": null,
   "metadata": {},
   "outputs": [],
   "source": []
  }
 ],
 "metadata": {
  "kernelspec": {
   "display_name": "Python 3",
   "language": "python",
   "name": "python3"
  },
  "language_info": {
   "codemirror_mode": {
    "name": "ipython",
    "version": 3
   },
   "file_extension": ".py",
   "mimetype": "text/x-python",
   "name": "python",
   "nbconvert_exporter": "python",
   "pygments_lexer": "ipython3",
   "version": "3.7.4"
  }
 },
 "nbformat": 4,
 "nbformat_minor": 4
}
