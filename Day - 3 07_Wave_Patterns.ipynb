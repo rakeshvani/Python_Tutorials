{
 "cells": [
  {
   "cell_type": "markdown",
   "metadata": {},
   "source": [
    "#  Wave Patterns"
   ]
  },
  {
   "attachments": {
    "Pattern%201.jpg": {
     "image/jpeg": "[encoded data removed]"
    }
   },
   "cell_type": "markdown",
   "metadata": {},
   "source": [
    "![Pattern%201.jpg](attachment:Pattern%201.jpg)"
   ]
  },
  {
   "cell_type": "code",
   "execution_count": 1,
   "metadata": {},
   "outputs": [
    {
     "name": "stdout",
     "output_type": "stream",
     "text": [
      "   *     *     *     *   \n",
      "  * *   * *   * *   * *  \n",
      " *   * *   * *   * *   * \n",
      "*     *     *     *     *\n"
     ]
    }
   ],
   "source": [
    "waveHeight = 4  # 1\n",
    "wL = 4  # 2\n",
    "wH = waveHeight - 1  # 3\n",
    "pc = wH  # 4\n",
    "\n",
    "for x in range(0, wH + 1):\n",
    "    for y in range(0, (wH * wL * 2) + 1):\n",
    "        if (y % (wH * 2) == pc or\n",
    "                y % (wH * 2) == wH + x):\n",
    "            print(\"*\", end=\"\")  # put any symbol\n",
    "        else:\n",
    "            print(\" \", end=\"\")  # single space\n",
    "    pc -= 1\n",
    "    print()\n",
    "\n",
    "    \"\"\"\n",
    "1) change value to increase/decrease the height of the wave\n",
    "2) change value to increase/decrease the length of the wave\n",
    "3) for loop cond\n",
    "4) cond for printing\n",
    "    \"\"\""
   ]
  },
  {
   "attachments": {
    "Pattern%202.jpg": {
     "image/jpeg": "[encoded data removed]"
    }
   },
   "cell_type": "markdown",
   "metadata": {},
   "source": [
    "![Pattern%202.jpg](attachment:Pattern%202.jpg)"
   ]
  },
  {
   "cell_type": "code",
   "execution_count": 2,
   "metadata": {},
   "outputs": [
    {
     "name": "stdout",
     "output_type": "stream",
     "text": [
      "   |     |     |     |   \n",
      "  | |   | |   | |   | |  \n",
      " |   | |   | |   | |   | \n",
      "|     |     |     |     |\n"
     ]
    }
   ],
   "source": [
    "waveHeight = 4  # 1\n",
    "wL = 4  # 2\n",
    "wH = waveHeight - 1  # 3\n",
    "pc = wH  # 4\n",
    "\n",
    "for x in range(0, wH + 1):\n",
    "    for y in range(0, (wH * wL * 2) + 1):\n",
    "        if (y % (wH * 2) == pc or\n",
    "                y % (wH * 2) == wH + x):\n",
    "            print(\"|\", end=\"\")  # put any symbol\n",
    "        else:\n",
    "            print(\" \", end=\"\")  # single space\n",
    "    pc -= 1\n",
    "    print()\n",
    "\n",
    "    \"\"\"\n",
    "1) change value to increase/decrease the height of the wave\n",
    "2) change value to increase/decrease the length of the wave\n",
    "3) for loop cond\n",
    "4) cond for printing\n",
    "    \"\"\""
   ]
  },
  {
   "attachments": {
    "Pattern%203.jpg": {
     "image/jpeg": "[encoded data removed]"
    }
   },
   "cell_type": "markdown",
   "metadata": {},
   "source": [
    "![Pattern%203.jpg](attachment:Pattern%203.jpg)"
   ]
  },
  {
   "cell_type": "code",
   "execution_count": 3,
   "metadata": {},
   "outputs": [
    {
     "name": "stdout",
     "output_type": "stream",
     "text": [
      "      03          09          15          21      \n",
      "    02  04      08  10      14  16      20  22    \n",
      "  01      05  07      11  13      17  19      23  \n",
      "00          06          12          18          24\n"
     ]
    }
   ],
   "source": [
    "waveHeight = 4  # 1\n",
    "wL = 4  # 2\n",
    "wH = waveHeight - 1  # 3\n",
    "pc = wH  # 4\n",
    "\n",
    "for x in range(0, wH + 1):\n",
    "    for y in range(0, (wH * wL * 2) + 1):\n",
    "        if (y % (wH * 2) == pc or\n",
    "                y % (wH * 2) == wH + x):\n",
    "            print(\"{:02d}\".format(y), end=\"\")\n",
    "        else:\n",
    "            print(\"  \", end=\"\")  # 2 spaces\n",
    "    pc -= 1\n",
    "    print()\n",
    "\n",
    "    \"\"\"\n",
    "1) change value to increase/decrease the height of the wave\n",
    "2) change value to increase/decrease the length of the wave\n",
    "3) for loop cond\n",
    "4) cond for printing\n",
    "    \"\"\""
   ]
  },
  {
   "attachments": {
    "Pattern%204.jpg": {
     "image/jpeg": "[encoded data removed]"
    }
   },
   "cell_type": "markdown",
   "metadata": {},
   "source": [
    "![Pattern%204.jpg](attachment:Pattern%204.jpg)"
   ]
  },
  {
   "cell_type": "code",
   "execution_count": 4,
   "metadata": {},
   "outputs": [
    {
     "name": "stdout",
     "output_type": "stream",
     "text": [
      "   D     J     P     V   \n",
      "  C E   I K   O Q   U W  \n",
      " B   F H   L N   R T   X \n",
      "A     G     M     S     Y\n"
     ]
    }
   ],
   "source": [
    "waveHeight = 4  # 1\n",
    "wL = 4  # 2\n",
    "wH = waveHeight - 1  # 3\n",
    "ctrl = wH  # 4\n",
    "\n",
    "for x in range(0, wH + 1):\n",
    "    cp = ord('A')  # 5\n",
    "    for y in range(0, (wH * wL * 2) + 1):\n",
    "        if (y % (wH * 2) == ctrl or\n",
    "                y % (wH * 2) == wH + x):\n",
    "            print(chr(cp), end=\"\")\n",
    "        else:\n",
    "            print(\" \", end=\"\")  # single space\n",
    "        cp += 1  # 6\n",
    "        if (cp > ord('Z')):\n",
    "            cp = cp - 26  # 7\n",
    "    ctrl -= 1\n",
    "    print()\n",
    "\n",
    "    \"\"\"\n",
    "1) change value to increase/decrease the height of the wave\n",
    "2) change value to increase/decrease the length of the wave\n",
    "3) for loop cond\n",
    "4) cond for printing\n",
    "5) set printing character\n",
    "6) increment print char\n",
    "7) reset print char to 'A'\n",
    "    \"\"\""
   ]
  },
  {
   "attachments": {
    "Pattern%205.jpg": {
     "image/jpeg": "[encoded data removed]"
    }
   },
   "cell_type": "markdown",
   "metadata": {},
   "source": [
    "![Pattern%205.jpg](attachment:Pattern%205.jpg)"
   ]
  },
  {
   "cell_type": "code",
   "execution_count": 5,
   "metadata": {},
   "outputs": [
    {
     "name": "stdout",
     "output_type": "stream",
     "text": [
      "   d     j     p     v   \n",
      "  c e   i k   o q   u w  \n",
      " b   f h   l n   r t   x \n",
      "a     g     m     s     y\n"
     ]
    }
   ],
   "source": [
    "waveHeight = 4  # 1\n",
    "wL = 4  # 2\n",
    "wH = waveHeight - 1  # 3\n",
    "ctrl = wH  # 4\n",
    "\n",
    "for x in range(0, wH + 1):\n",
    "    cp = ord('a')  # 5\n",
    "    for y in range(0, (wH * wL * 2) + 1):\n",
    "        if (y % (wH * 2) == ctrl or\n",
    "                y % (wH * 2) == wH + x):\n",
    "            print(chr(cp), end=\"\")\n",
    "        else:\n",
    "            print(\" \", end=\"\")  # single space\n",
    "        cp += 1  # 6\n",
    "        if (cp > ord('z')):\n",
    "            cp = cp - 26  # 7\n",
    "    ctrl -= 1\n",
    "    print()\n",
    "\n",
    "    \"\"\"\n",
    "1) change value to increase/decrease the height of the wave\n",
    "2) change value to increase/decrease the length of the wave\n",
    "3) for loop cond\n",
    "4) cond for printing\n",
    "5) set printing character\n",
    "6) increment print char\n",
    "7) reset print char to 'a'\n",
    "    \"\"\""
   ]
  },
  {
   "attachments": {
    "Pattern%206.jpg": {
     "image/jpeg": "[encoded data removed]"
    }
   },
   "cell_type": "markdown",
   "metadata": {},
   "source": [
    "![Pattern%206.jpg](attachment:Pattern%206.jpg)"
   ]
  },
  {
   "cell_type": "code",
   "execution_count": 6,
   "metadata": {},
   "outputs": [
    {
     "name": "stdout",
     "output_type": "stream",
     "text": [
      "   W     Q     K     E   \n",
      "  X V   R P   L J   F D  \n",
      " Y   U S   O M   I G   C \n",
      "Z     T     N     H     B\n"
     ]
    }
   ],
   "source": [
    "waveHeight = 4  # 1\n",
    "wL = 4  # 2\n",
    "wH = waveHeight - 1  # 3\n",
    "ctrl = wH  # 4\n",
    "\n",
    "for x in range(0, wH + 1):\n",
    "    cp = ord('Z')  # 5\n",
    "    for y in range(0, (wH * wL * 2) + 1):\n",
    "        if (y % (wH * 2) == ctrl or\n",
    "                y % (wH * 2) == wH + x):\n",
    "            print(chr(cp), end=\"\")\n",
    "        else:\n",
    "            print(\" \", end=\"\")  # single space\n",
    "        cp -= 1  # 6\n",
    "        if (cp < ord('A')):\n",
    "            cp = cp + 26  # 7\n",
    "    ctrl -= 1\n",
    "    print()\n",
    "\n",
    "    \"\"\"\n",
    "1) change value to increase/decrease the height of the wave\n",
    "2) change value to increase/decrease the length of the wave\n",
    "3) for loop cond\n",
    "4) cond for printing\n",
    "5) set printing character\n",
    "6) decrement print char\n",
    "7) reset print char to 'Z'\n",
    "    \"\"\""
   ]
  },
  {
   "attachments": {
    "Pattern%207.jpg": {
     "image/jpeg": "[encoded data removed]"
    }
   },
   "cell_type": "markdown",
   "metadata": {},
   "source": [
    "![Pattern%207.jpg](attachment:Pattern%207.jpg)"
   ]
  },
  {
   "cell_type": "code",
   "execution_count": 7,
   "metadata": {},
   "outputs": [
    {
     "name": "stdout",
     "output_type": "stream",
     "text": [
      "   w     q     k     e   \n",
      "  x v   r p   l j   f d  \n",
      " y   u s   o m   i g   c \n",
      "z     t     n     h     b\n"
     ]
    }
   ],
   "source": [
    "waveHeight = 4  # 1\n",
    "wL = 4  # 2\n",
    "wH = waveHeight - 1  # 3\n",
    "ctrl = wH  # 4\n",
    "\n",
    "for x in range(0, wH + 1):\n",
    "    cp = ord('z')  # 5\n",
    "    for y in range(0, (wH * wL * 2) + 1):\n",
    "        if (y % (wH * 2) == ctrl or\n",
    "                y % (wH * 2) == wH + x):\n",
    "            print(chr(cp), end=\"\")\n",
    "        else:\n",
    "            print(\" \", end=\"\")  # single space\n",
    "        cp -= 1  # 6\n",
    "        if (cp < ord('a')):\n",
    "            cp = cp + 26  # 7\n",
    "    ctrl -= 1\n",
    "    print()\n",
    "\n",
    "    \"\"\"\n",
    "1) change value to increase/decrease the height of the wave\n",
    "2) change value to increase/decrease the length of the wave\n",
    "3) for loop cond\n",
    "4) cond for printing\n",
    "5) set printing character\n",
    "6) decrement print char\n",
    "7) reset print char to 'z'\n",
    "    \"\"\""
   ]
  },
  {
   "attachments": {
    "Pattern%208.jpg": {
     "image/jpeg": "[encoded data removed]"
    }
   },
   "cell_type": "markdown",
   "metadata": {},
   "source": [
    "![Pattern%208.jpg](attachment:Pattern%208.jpg)"
   ]
  },
  {
   "cell_type": "code",
   "execution_count": 8,
   "metadata": {},
   "outputs": [
    {
     "name": "stdout",
     "output_type": "stream",
     "text": [
      "   /\\      /\\      /\\      /\\   \n",
      "  /  \\    /  \\    /  \\    /  \\  \n",
      " /    \\  /    \\  /    \\  /    \\ \n",
      "/      \\/      \\/      \\/      \\\n",
      "                                \n"
     ]
    }
   ],
   "source": [
    "wH = 4  # 1\n",
    "wL = 4  # 2\n",
    "pc = wH - 1  # 3\n",
    "\n",
    "for x in range(0, wH + 1):\n",
    "    for y in range(0, (wH * wL * 2)):\n",
    "        if (y % (wH * 2) == pc):\n",
    "            print(\"/\", end=\"\")\n",
    "        elif (y % (wH * 2) == wH + x):\n",
    "            print(\"\\\\\", end=\"\")\n",
    "        else:\n",
    "            print(\" \", end=\"\")  # single space\n",
    "    pc -= 1\n",
    "    print()\n",
    "\n",
    "    \"\"\"\n",
    "1) change value to increase/decrease the height of the wave\n",
    "2) change value to increase/decrease the length of the wave\n",
    "3) cond for printing\n",
    "    \"\"\""
   ]
  },
  {
   "attachments": {
    "Pattern%209.jpg": {
     "image/jpeg": "[encoded data removed]"
    }
   },
   "cell_type": "markdown",
   "metadata": {},
   "source": [
    "![Pattern%209.jpg](attachment:Pattern%209.jpg)"
   ]
  },
  {
   "cell_type": "code",
   "execution_count": 9,
   "metadata": {},
   "outputs": [
    {
     "name": "stdout",
     "output_type": "stream",
     "text": [
      "   ||      ||      ||      ||   \n",
      "  |  |    |  |    |  |    |  |  \n",
      " |    |  |    |  |    |  |    | \n",
      "|      ||      ||      ||      |\n",
      "                                \n"
     ]
    }
   ],
   "source": [
    "wH = 4  # 1\n",
    "wL = 4  # 2\n",
    "pc = wH - 1  # 3\n",
    "\n",
    "for x in range(0, wH + 1):\n",
    "    for y in range(0, (wH * wL * 2)):\n",
    "        if (y % (wH * 2) == pc or\n",
    "                y % (wH * 2) == wH + x):\n",
    "            print(\"|\", end=\"\")\n",
    "        else:\n",
    "            print(\" \", end=\"\")  # single space\n",
    "    pc -= 1\n",
    "    print()\n",
    "\n",
    "    \"\"\"\n",
    "1) change value to increase/decrease the height of the wave\n",
    "2) change value to increase/decrease the length of the wave\n",
    "3) cond for printing\n",
    "    \"\"\""
   ]
  },
  {
   "attachments": {
    "Pattern%2010.jpg": {
     "image/jpeg": "[encoded data removed]"
    }
   },
   "cell_type": "markdown",
   "metadata": {},
   "source": [
    "![Pattern%2010.jpg](attachment:Pattern%2010.jpg)"
   ]
  },
  {
   "cell_type": "code",
   "execution_count": 10,
   "metadata": {},
   "outputs": [
    {
     "name": "stdout",
     "output_type": "stream",
     "text": [
      "   **      **      **      **   \n",
      "  *  *    *  *    *  *    *  *  \n",
      " *    *  *    *  *    *  *    * \n",
      "*      **      **      **      *\n",
      "                                \n"
     ]
    }
   ],
   "source": [
    "wH = 4  # 1\n",
    "wL = 4  # 2\n",
    "pc = wH - 1  # 3\n",
    "\n",
    "for x in range(0, wH + 1):\n",
    "    for y in range(0, (wH * wL * 2)):\n",
    "        if (y % (wH * 2) == pc or\n",
    "                y % (wH * 2) == wH + x):\n",
    "            print(\"*\", end=\"\")\n",
    "        else:\n",
    "            print(\" \", end=\"\")  # single space\n",
    "    pc -= 1\n",
    "    print()\n",
    "\n",
    "    \"\"\"\n",
    "1) change value to increase/decrease the height of the wave\n",
    "2) change value to increase/decrease the length of the wave\n",
    "3) cond for printing\n",
    "    \"\"\""
   ]
  },
  {
   "attachments": {
    "Pattern%2011.jpg": {
     "image/jpeg": "[encoded data removed]"
    }
   },
   "cell_type": "markdown",
   "metadata": {},
   "source": [
    "![Pattern%2011.jpg](attachment:Pattern%2011.jpg)"
   ]
  },
  {
   "cell_type": "code",
   "execution_count": 11,
   "metadata": {},
   "outputs": [
    {
     "name": "stdout",
     "output_type": "stream",
     "text": [
      "      0304            1112            1920            2728      \n",
      "    02    05        10    13        18    21        26    29    \n",
      "  01        06    09        14    17        22    25        30  \n",
      "00            0708            1516            2324            31\n",
      "                                                                \n"
     ]
    }
   ],
   "source": [
    "wH = 4  # 1\n",
    "wL = 4  # 2\n",
    "pc = wH - 1  # 3\n",
    "\n",
    "for x in range(0, wH + 1):\n",
    "    for y in range(0, (wH * wL * 2)):\n",
    "        if (y % (wH * 2) == pc or\n",
    "                y % (wH * 2) == wH + x):\n",
    "            print(\"{:02d}\".format(y), end=\"\")\n",
    "        else:\n",
    "            print(\"  \", end=\"\")  # single space\n",
    "    pc -= 1\n",
    "    print()\n",
    "\n",
    "    \"\"\"\n",
    "1) change value to increase/decrease the height of the wave\n",
    "2) change value to increase/decrease the length of the wave\n",
    "3) cond for printing\n",
    "    \"\"\""
   ]
  },
  {
   "attachments": {
    "Pattern%2012.jpg": {
     "image/jpeg": "[encoded data removed]"
    }
   },
   "cell_type": "markdown",
   "metadata": {},
   "source": [
    "![Pattern%2012.jpg](attachment:Pattern%2012.jpg)"
   ]
  },
  {
   "cell_type": "code",
   "execution_count": 12,
   "metadata": {},
   "outputs": [
    {
     "name": "stdout",
     "output_type": "stream",
     "text": [
      "   DE      LM      TU      BC   \n",
      "  C  F    K  N    S  V    A  D  \n",
      " B    G  J    O  R    W  Z    E \n",
      "A      HI      PQ      XY      F\n",
      "                                \n"
     ]
    }
   ],
   "source": [
    "wH = 4  # 1\n",
    "wL = 4  # 2\n",
    "pc = wH - 1  # 3\n",
    "\n",
    "for x in range(0, wH + 1):\n",
    "    pchar = ord('A')  # 4\n",
    "    for y in range(0, (wH * wL * 2)):\n",
    "        if (y % (wH * 2) == pc or\n",
    "                y % (wH * 2) == wH + x):\n",
    "            print(chr(pchar), end=\"\")\n",
    "        else:\n",
    "            print(\" \", end=\"\")  # single space\n",
    "        pchar += 1  # 5\n",
    "        if (pchar > ord('Z')):  # 6\n",
    "            pchar = pchar - 26  # 7\n",
    "    pc -= 1\n",
    "    print()\n",
    "\n",
    "    \"\"\"\n",
    "1) change value to increase/decrease the height of the wave\n",
    "2) change value to increase/decrease the length of the wave\n",
    "3) cond for printing\n",
    "4) set printing character\n",
    "5) increment print char\n",
    "6) reset print char to 'A'\n",
    "    \"\"\""
   ]
  },
  {
   "attachments": {
    "Pattern%2013.jpg": {
     "image/jpeg": "[encoded data removed]"
    }
   },
   "cell_type": "markdown",
   "metadata": {},
   "source": [
    "![Pattern%2013.jpg](attachment:Pattern%2013.jpg)"
   ]
  },
  {
   "cell_type": "code",
   "execution_count": 13,
   "metadata": {},
   "outputs": [
    {
     "name": "stdout",
     "output_type": "stream",
     "text": [
      "   de      lm      tu      bc   \n",
      "  c  f    k  n    s  v    a  d  \n",
      " b    g  j    o  r    w  z    e \n",
      "a      hi      pq      xy      f\n",
      "                                \n"
     ]
    }
   ],
   "source": [
    "wH = 4  # 1\n",
    "wL = 4  # 2\n",
    "pc = wH - 1  # 3\n",
    "\n",
    "for x in range(0, wH + 1):\n",
    "    pchar = ord('a')  # 4\n",
    "    for y in range(0, (wH * wL * 2)):\n",
    "        if (y % (wH * 2) == pc or\n",
    "                y % (wH * 2) == wH + x):\n",
    "            print(chr(pchar), end=\"\")\n",
    "        else:\n",
    "            print(\" \", end=\"\")  # single space\n",
    "        pchar += 1  # 5\n",
    "        if (pchar > ord('z')):  # 6\n",
    "            pchar = pchar - 26  # 7\n",
    "    pc -= 1\n",
    "    print()\n",
    "\n",
    "    \"\"\"\n",
    "1) change value to increase/decrease the height of the wave\n",
    "2) change value to increase/decrease the length of the wave\n",
    "3) cond for printing\n",
    "4) set printing character\n",
    "5) increment print char\n",
    "6) reset print char to 'a'\n",
    "    \"\"\""
   ]
  },
  {
   "attachments": {
    "Pattern%2014.jpg": {
     "image/jpeg": "[encoded data removed]"
    }
   },
   "cell_type": "markdown",
   "metadata": {},
   "source": [
    "![Pattern%2014.jpg](attachment:Pattern%2014.jpg)"
   ]
  },
  {
   "cell_type": "code",
   "execution_count": 14,
   "metadata": {},
   "outputs": [
    {
     "name": "stdout",
     "output_type": "stream",
     "text": [
      "   WV      ON      GF      YX   \n",
      "  X  U    P  M    H  E    Z  W  \n",
      " Y    T  Q    L  I    D  A    V \n",
      "Z      SR      KJ      CB      U\n",
      "                                \n"
     ]
    }
   ],
   "source": [
    "wH = 4  # 1\n",
    "wL = 4  # 2\n",
    "pc = wH - 1  # 3\n",
    "\n",
    "for x in range(0, wH + 1):\n",
    "    pchar = ord('Z')  # 4\n",
    "    for y in range(0, (wH * wL * 2)):\n",
    "        if (y % (wH * 2) == pc or\n",
    "                y % (wH * 2) == wH + x):\n",
    "            print(chr(pchar), end=\"\")\n",
    "        else:\n",
    "            print(\" \", end=\"\")  # single space\n",
    "        pchar -= 1  # 5\n",
    "        if (pchar < ord('A')):  # 6\n",
    "            pchar = pchar + 26  # 7\n",
    "    pc -= 1\n",
    "    print()\n",
    "\n",
    "    \"\"\"\n",
    "1) change value to increase/decrease the height of the wave\n",
    "2) change value to increase/decrease the length of the wave\n",
    "3) cond for printing\n",
    "4) set printing character\n",
    "5) decrement print char\n",
    "6) reset print char to 'Z'\n",
    "    \"\"\""
   ]
  },
  {
   "attachments": {
    "Pattern%2015.jpg": {
     "image/jpeg": "[encoded data removed]"
    }
   },
   "cell_type": "markdown",
   "metadata": {},
   "source": [
    "![Pattern%2015.jpg](attachment:Pattern%2015.jpg)"
   ]
  },
  {
   "cell_type": "code",
   "execution_count": 15,
   "metadata": {},
   "outputs": [
    {
     "name": "stdout",
     "output_type": "stream",
     "text": [
      "   wv      on      gf      yx   \n",
      "  x  u    p  m    h  e    z  w  \n",
      " y    t  q    l  i    d  a    v \n",
      "z      sr      kj      cb      u\n",
      "                                \n"
     ]
    }
   ],
   "source": [
    "wH = 4  # 1\n",
    "wL = 4  # 2\n",
    "pc = wH - 1  # 3\n",
    "\n",
    "for x in range(0, wH + 1):\n",
    "    pchar = ord('z')  # 4\n",
    "    for y in range(0, (wH * wL * 2)):\n",
    "        if (y % (wH * 2) == pc or\n",
    "                y % (wH * 2) == wH + x):\n",
    "            print(chr(pchar), end=\"\")\n",
    "        else:\n",
    "            print(\" \", end=\"\")  # single space\n",
    "        pchar -= 1  # 5\n",
    "        if (pchar < ord('a')):  # 6\n",
    "            pchar = pchar + 26  # 7\n",
    "    pc -= 1\n",
    "    print()\n",
    "\n",
    "    \"\"\"\n",
    "1) change value to increase/decrease the height of the wave\n",
    "2) change value to increase/decrease the length of the wave\n",
    "3) cond for printing\n",
    "4) set printing character\n",
    "5) decrement print char\n",
    "6) reset print char to 'z'\n",
    "    \"\"\""
   ]
  },
  {
   "attachments": {
    "Pattern%2016.jpg": {
     "image/jpeg": "[encoded data removed]"
    }
   },
   "cell_type": "markdown",
   "metadata": {},
   "source": [
    "![Pattern%2016.jpg](attachment:Pattern%2016.jpg)"
   ]
  },
  {
   "cell_type": "code",
   "execution_count": 16,
   "metadata": {},
   "outputs": [
    {
     "name": "stdout",
     "output_type": "stream",
     "text": [
      "  0 0     0 0     0 0     0 0   \n",
      " 0   0   0   0   0   0   0   0  \n",
      " 0   0   0   0   0   0   0   0  \n",
      " 0   0   0   0   0   0   0   0  \n",
      "0     0 0     0 0     0 0     0 \n"
     ]
    }
   ],
   "source": [
    "wH = 5  # 1\n",
    "wL = 4  # 2\n",
    "insp = 1  # 3\n",
    "ousp = 2  # 4\n",
    "\n",
    "for x in range(1, wH + 1):\n",
    "    for y in range(1, wL + 1):\n",
    "        for z in range(1, ousp + 1):\n",
    "            print(\" \", end=\"\")\n",
    "        print(\"0\", end=\"\")  # any symbol\n",
    "        for z in range(1, insp + 1):\n",
    "            print(\" \", end=\"\")\n",
    "        print(\"0\", end=\"\")  # any symbol\n",
    "        for z in range(1, ousp + 1):\n",
    "            print(\" \", end=\"\")\n",
    "        print(\" \", end=\"\")\n",
    "\n",
    "    ousp = (x + 1 != wH)  # 5\n",
    "\n",
    "    if (x + 1 != wH):  # 6\n",
    "        insp = 3\n",
    "    else:\n",
    "        insp = 5\n",
    "    print()\n",
    "\n",
    "    \"\"\"\n",
    "1) wH - change value to increase/decrease the height of the wave\n",
    "2) wL - change value to increase/decrease the length of the wave\n",
    "3) inner space\n",
    "4) outer space\n",
    "5) set value of ousp to 1 if x+1 is not equal to wave height (wH) or 0 otherwise\n",
    "6) set value of insp to 3 if x+1 is not equal to wave height (wH) or 5 otherwise\n",
    "    \"\"\""
   ]
  },
  {
   "attachments": {
    "Pattern%2017.jpg": {
     "image/jpeg": "[encoded data removed]"
    }
   },
   "cell_type": "markdown",
   "metadata": {},
   "source": [
    "![Pattern%2017.jpg](attachment:Pattern%2017.jpg)"
   ]
  },
  {
   "cell_type": "code",
   "execution_count": 17,
   "metadata": {},
   "outputs": [
    {
     "name": "stdout",
     "output_type": "stream",
     "text": [
      "  05 06     15 16     25 26     35 36   \n",
      " 04   07   14   17   24   27   34   37  \n",
      " 03   08   13   18   23   28   33   38  \n",
      " 02   09   12   19   22   29   32   39  \n",
      "01     10 11     20 21     30 31     40 \n"
     ]
    }
   ],
   "source": [
    "wH = 5  # 1\n",
    "wL = 4  # 2\n",
    "insp = 1  # 3\n",
    "ousp = 2  # 4\n",
    "inc = 1\n",
    "jump = (wH * 3) - (wH + 1)\n",
    "num = wH\n",
    "\n",
    "for x in range(1, wH + 1):\n",
    "    for y in range(1, wL + 1):\n",
    "        for z in range(1, ousp + 1):\n",
    "            print(\" \", end=\"\")\n",
    "        print(\"{:02d}\".format(num), end=\"\")\n",
    "        for z in range(1, insp + 1):\n",
    "            print(\" \", end=\"\")\n",
    "        num += inc\n",
    "        print(\"{:02d}\".format(num), end=\"\")\n",
    "        for z in range(1, ousp + 1):\n",
    "            print(\" \", end=\"\")\n",
    "        print(\" \", end=\"\")\n",
    "        num += jump\n",
    "\n",
    "    ousp = (x + 1 != wH)  # 5\n",
    "\n",
    "    if (x + 1 != wH):  # 6\n",
    "        insp = 3\n",
    "    else:\n",
    "        insp = 5\n",
    "\n",
    "    num = wH - x\n",
    "    inc += 2\n",
    "    jump -= 2\n",
    "    print()\n",
    "\n",
    "    \"\"\"\n",
    "1) wH - change value to increase/decrease the height of the wave\n",
    "2) wL - change value to increase/decrease the length of the wave\n",
    "3) inner space\n",
    "4) outer space\n",
    "5) set value of ousp to 1 if x+1 is not equal to wave height (wH) or 0 otherwise\n",
    "6) set value of insp to 3 if x+1 is not equal to wave height (wH) or 5 otherwise\n",
    "    \"\"\""
   ]
  },
  {
   "attachments": {
    "Pattern%2018.jpg": {
     "image/jpeg": "[encoded data removed]"
    }
   },
   "cell_type": "markdown",
   "metadata": {},
   "source": [
    "![Pattern%2018.jpg](attachment:Pattern%2018.jpg)"
   ]
  },
  {
   "cell_type": "code",
   "execution_count": 18,
   "metadata": {},
   "outputs": [
    {
     "name": "stdout",
     "output_type": "stream",
     "text": [
      "  E F     O P     Y Z     I J   \n",
      " D   G   N   Q   X   A   H   K  \n",
      " C   H   M   R   W   B   G   L  \n",
      " B   I   L   S   V   C   F   M  \n",
      "A     J K     T U     D E     N \n"
     ]
    }
   ],
   "source": [
    "wH = 5  # 1\n",
    "wL = 4  # 2\n",
    "insp = 1  # 3\n",
    "ousp = 2  # 4\n",
    "inc = 1\n",
    "jump = (wH * 3) - (wH + 1)\n",
    "ch = ord('A') + wH - 1  # print char\n",
    "\n",
    "for x in range(1, wH + 1):\n",
    "    for y in range(1, wL + 1):\n",
    "        for z in range(1, ousp + 1):\n",
    "            print(\" \", end=\"\")\n",
    "        print(chr(ch), end=\"\")\n",
    "        for z in range(1, insp + 1):\n",
    "            print(\" \", end=\"\")\n",
    "        ch += inc\n",
    "        if (ch > ord('Z')):  # 5\n",
    "            ch = ch - 26\n",
    "        print(chr(ch), end=\"\")\n",
    "        for z in range(1, ousp + 1):\n",
    "            print(\" \", end=\"\")\n",
    "        print(\" \", end=\"\")\n",
    "        ch += jump\n",
    "        if (ch > ord('Z')):  # 6\n",
    "            ch = ch - 26\n",
    "\n",
    "    ousp = (x + 1 != wH)  # 7\n",
    "\n",
    "    if (x + 1 != wH):  # 8\n",
    "        insp = 3\n",
    "    else:\n",
    "        insp = 5\n",
    "\n",
    "    ch = ord('A') + wH - x - 1\n",
    "    inc += 2\n",
    "    jump -= 2\n",
    "    print()\n",
    "\n",
    "    \"\"\"\n",
    "1) wH - change value to increase/decrease the height of the wave\n",
    "2) wL - change value to increase/decrease the length of the wave\n",
    "3) inner space\n",
    "4) outer space\n",
    "5) reset print char\n",
    "6) reset print char\n",
    "7) set value of ousp to 1 if x+1 is not equal to wave height (wH) or 0 otherwise\n",
    "8) set value of insp to 3 if x+1 is not equal to wave height (wH) or 5 otherwise\n",
    "    \"\"\""
   ]
  },
  {
   "attachments": {
    "Pattern%2019.jpg": {
     "image/jpeg": "[encoded data removed]"
    }
   },
   "cell_type": "markdown",
   "metadata": {},
   "source": [
    "![Pattern%2019.jpg](attachment:Pattern%2019.jpg)"
   ]
  },
  {
   "cell_type": "code",
   "execution_count": 19,
   "metadata": {},
   "outputs": [
    {
     "name": "stdout",
     "output_type": "stream",
     "text": [
      "  e f     o p     y z     i j   \n",
      " d   g   n   q   x   a   h   k  \n",
      " c   h   m   r   w   b   g   l  \n",
      " b   i   l   s   v   c   f   m  \n",
      "a     j k     t u     d e     n \n"
     ]
    }
   ],
   "source": [
    "wH = 5  # 1\n",
    "wL = 4  # 2\n",
    "insp = 1  # 3\n",
    "ousp = 2  # 4\n",
    "inc = 1\n",
    "jump = (wH * 3) - (wH + 1)\n",
    "ch = ord('a') + wH - 1  # print char\n",
    "\n",
    "for x in range(1, wH + 1):\n",
    "    for y in range(1, wL + 1):\n",
    "        for z in range(1, ousp + 1):\n",
    "            print(\" \", end=\"\")\n",
    "        print(chr(ch), end=\"\")\n",
    "        for z in range(1, insp + 1):\n",
    "            print(\" \", end=\"\")\n",
    "        ch += inc\n",
    "        if (ch > ord('z')):  # 5\n",
    "            ch = ch - 26\n",
    "        print(chr(ch), end=\"\")\n",
    "        for z in range(1, ousp + 1):\n",
    "            print(\" \", end=\"\")\n",
    "        print(\" \", end=\"\")\n",
    "        ch += jump\n",
    "        if (ch > ord('z')):  # 6\n",
    "            ch = ch - 26\n",
    "\n",
    "    ousp = (x + 1 != wH)  # 7\n",
    "\n",
    "    if (x + 1 != wH):  # 8\n",
    "        insp = 3\n",
    "    else:\n",
    "        insp = 5\n",
    "\n",
    "    ch = ord('a') + wH - x - 1\n",
    "    inc += 2\n",
    "    jump -= 2\n",
    "    print()\n",
    "    \n",
    "    \"\"\"\n",
    "1) wH - change value to increase/decrease the height of the wave\n",
    "2) wL - change value to increase/decrease the length of the wave\n",
    "3) inner space\n",
    "4) outer space\n",
    "5) reset print char\n",
    "6) reset print char\n",
    "7) set value of ousp to 1 if x+1 is not equal to wave height (wH) or 0 otherwise\n",
    "8) set value of insp to 3 if x+1 is not equal to wave height (wH) or 5 otherwise\n",
    "    \"\"\""
   ]
  },
  {
   "attachments": {
    "Pattern%2020.jpg": {
     "image/jpeg": "[encoded data removed]"
    }
   },
   "cell_type": "markdown",
   "metadata": {},
   "source": [
    "![Pattern%2020.jpg](attachment:Pattern%2020.jpg)"
   ]
  },
  {
   "cell_type": "code",
   "execution_count": 20,
   "metadata": {},
   "outputs": [
    {
     "name": "stdout",
     "output_type": "stream",
     "text": [
      "  V U     L K     B A     R Q   \n",
      " W   T   M   J   C   Z   S   P  \n",
      " X   S   N   I   D   Y   T   O  \n",
      " Y   R   O   H   E   X   U   N  \n",
      "Z     Q P     G F     W V     M \n"
     ]
    }
   ],
   "source": [
    "wH = 5  # 1\n",
    "wL = 4  # 2\n",
    "insp = 1  # 3\n",
    "ousp = 2  # 4\n",
    "inc = 1\n",
    "jump = (wH * 3) - (wH + 1)\n",
    "ch = ord('Z') - wH + 1  # print char\n",
    "\n",
    "for x in range(1, wH + 1):\n",
    "    for y in range(1, wL + 1):\n",
    "        for z in range(1, ousp + 1):\n",
    "            print(\" \", end=\"\")\n",
    "        print(chr(ch), end=\"\")\n",
    "        for z in range(1, insp + 1):\n",
    "            print(\" \", end=\"\")\n",
    "        ch -= inc\n",
    "        if (ch < ord('A')):  # 5\n",
    "            ch = ch + 26\n",
    "        print(chr(ch), end=\"\")\n",
    "        for z in range(1, ousp + 1):\n",
    "            print(\" \", end=\"\")\n",
    "        print(\" \", end=\"\")\n",
    "        ch -= jump\n",
    "        if (ch < ord('A')):  # 6\n",
    "            ch = ch + 26\n",
    "\n",
    "    ousp = (x + 1 != wH)  # 7\n",
    "\n",
    "    if (x + 1 != wH):  # 8\n",
    "        insp = 3\n",
    "    else:\n",
    "        insp = 5\n",
    "\n",
    "    ch = ord('Z') - wH + x + 1\n",
    "    inc += 2\n",
    "    jump -= 2\n",
    "    print()\n",
    "\n",
    "    \"\"\"\n",
    "1) wH - change value to increase/decrease the height of the wave\n",
    "2) wL - change value to increase/decrease the length of the wave\n",
    "3) inner space\n",
    "4) outer space\n",
    "5) reset print char\n",
    "6) reset print char\n",
    "7) set value of ousp to 1 if x+1 is not equal to wave height (wH) or 0 otherwise\n",
    "8) set value of insp to 3 if x+1 is not equal to wave height (wH) or 5 otherwise\n",
    "    \"\"\""
   ]
  },
  {
   "attachments": {
    "Pattern%2021.jpg": {
     "image/jpeg": "[encoded data removed]"
    }
   },
   "cell_type": "markdown",
   "metadata": {},
   "source": [
    "![Pattern%2021.jpg](attachment:Pattern%2021.jpg)"
   ]
  },
  {
   "cell_type": "code",
   "execution_count": 21,
   "metadata": {},
   "outputs": [
    {
     "name": "stdout",
     "output_type": "stream",
     "text": [
      "  v u     l k     b a     r q   \n",
      " w   t   m   j   c   z   s   p  \n",
      " x   s   n   i   d   y   t   o  \n",
      " y   r   o   h   e   x   u   n  \n",
      "z     q p     g f     w v     m \n"
     ]
    }
   ],
   "source": [
    "wH = 5  # 1\n",
    "wL = 4  # 2\n",
    "insp = 1  # 3\n",
    "ousp = 2  # 4\n",
    "inc = 1\n",
    "jump = (wH * 3) - (wH + 1)\n",
    "ch = ord('z') - wH + 1  # print char\n",
    "\n",
    "for x in range(1, wH + 1):\n",
    "    for y in range(1, wL + 1):\n",
    "        for z in range(1, ousp + 1):\n",
    "            print(\" \", end=\"\")\n",
    "        print(chr(ch), end=\"\")\n",
    "        for z in range(1, insp + 1):\n",
    "            print(\" \", end=\"\")\n",
    "        ch -= inc\n",
    "        if (ch < ord('a')):  # 5\n",
    "            ch = ch + 26\n",
    "        print(chr(ch), end=\"\")\n",
    "        for z in range(1, ousp + 1):\n",
    "            print(\" \", end=\"\")\n",
    "        print(\" \", end=\"\")\n",
    "        ch -= jump\n",
    "        if (ch < ord('a')):  # 6\n",
    "            ch = ch + 26\n",
    "\n",
    "    ousp = (x + 1 != wH)  # 7\n",
    "\n",
    "    if (x + 1 != wH):  # 8\n",
    "        insp = 3\n",
    "    else:\n",
    "        insp = 5\n",
    "\n",
    "    ch = ord('z') - wH + x + 1\n",
    "    inc += 2\n",
    "    jump -= 2\n",
    "    print()\n",
    "\n",
    "    \"\"\"\n",
    "1) wH - change value to increase/decrease the height of the wave\n",
    "2) wL - change value to increase/decrease the length of the wave\n",
    "3) inner space\n",
    "4) outer space\n",
    "5) reset print char\n",
    "6) reset print char\n",
    "7) set value of ousp to 1 if x+1 is not equal to wave height (wH) or 0 otherwise\n",
    "8) set value of insp to 3 if x+1 is not equal to wave height (wH) or 5 otherwise\n",
    "    \"\"\""
   ]
  },
  {
   "attachments": {
    "Pattern%2022.jpg": {
     "image/jpeg": "[encoded data removed]"
    }
   },
   "cell_type": "markdown",
   "metadata": {},
   "source": [
    "![Pattern%2022.jpg](attachment:Pattern%2022.jpg)"
   ]
  },
  {
   "cell_type": "code",
   "execution_count": 22,
   "metadata": {},
   "outputs": [
    {
     "name": "stdout",
     "output_type": "stream",
     "text": [
      "  * * * *     * * * *     * * * *     * * * *   \n",
      "  *     *     *     *     *     *     *     *   \n",
      "  *     *     *     *     *     *     *     *   \n",
      "* *     * * * *     * * * *     * * * *     * * \n"
     ]
    }
   ],
   "source": [
    "wH = 4  # 1\n",
    "wL = 4  # 2\n",
    "\n",
    "for x in range(1, wH + 1):\n",
    "    for y in range(1, wL + 1):\n",
    "        if (x != wH):\n",
    "            print(\"  \", end=\"\")  # 3\n",
    "        else:\n",
    "            print(\"* \", end=\"\")  # 4\n",
    "        for z in range(1, 5):\n",
    "            if (x == 1 or z == 1 or z == 4):\n",
    "                print(\"* \", end=\"\")  # 4\n",
    "            else:\n",
    "                print(\"  \", end=\"\")  # 3\n",
    "\n",
    "        if (x != wH):\n",
    "            print(\"  \", end=\"\")  # 3\n",
    "        else:\n",
    "            print(\"* \", end=\"\")  # 4\n",
    "    print()\n",
    "\n",
    "    \"\"\"\n",
    "1) wH - change value to increase/decrease the height of the wave\n",
    "2) wL - change value to increase/decrease the length of the wave\n",
    "3) 2 whitespaces\n",
    "4) whitespace after * \n",
    "\n",
    "    \"\"\""
   ]
  },
  {
   "attachments": {
    "Pattern%2023.jpg": {
     "image/jpeg": "[encoded data removed]"
    }
   },
   "cell_type": "markdown",
   "metadata": {},
   "source": [
    "![Pattern%2023.jpg](attachment:Pattern%2023.jpg)"
   ]
  },
  {
   "cell_type": "code",
   "execution_count": 23,
   "metadata": {},
   "outputs": [
    {
     "name": "stdout",
     "output_type": "stream",
     "text": [
      "   05 06 07 08       17 18 19 20       29 30 31 32       41 42 43 44    \n",
      "   04       09       16       21       28       33       40       45    \n",
      "   03       10       15       22       27       34       39       46    \n",
      "01 02       11 12 13 14       23 24 25 26       35 36 37 38       47 48 \n"
     ]
    }
   ],
   "source": [
    "wH = 4  # 1\n",
    "wL = 4  # 2\n",
    "num = wH + 1\n",
    "jump = (num * 3 + 2) - (num + 3)\n",
    "inc = 1\n",
    "m = 0\n",
    "\n",
    "for x in range(1, wH + 1):\n",
    "    for y in range(1, wL + 1):\n",
    "        if (x != wH):\n",
    "            print(\"   \", end=\"\")  # 3\n",
    "        else:\n",
    "            print(\"{:02d} \".format(num - 1), end=\"\")\n",
    "        for z in range(1, 5):\n",
    "            if (x == 1 or z == 1 or z == 4):\n",
    "                print(\"{:02d} \".format(num), end=\"\")\n",
    "                num += inc\n",
    "            else:\n",
    "                print(\"   \", end=\"\")  # 3\n",
    "        num -= inc  # 4\n",
    "        if (x != wH):\n",
    "            print(\"   \", end=\"\")  # 3\n",
    "        else:\n",
    "            print(\"{:02d} \".format(num + 1), end=\"\")\n",
    "        num += jump\n",
    "    jump -= 2\n",
    "    inc = 5 + m\n",
    "    m += 2\n",
    "    num = wH - x + 1\n",
    "    print()\n",
    "\n",
    "    \"\"\"\n",
    "1) wH - change value to increase/decrease the height of the wave\n",
    "2) wL - change value to increase/decrease the length of the wave\n",
    "3) 3 whitespaces\n",
    "4) restore value of num \n",
    "\n",
    "    \"\"\""
   ]
  },
  {
   "attachments": {
    "Pattern%2024.jpg": {
     "image/jpeg": "[encoded data removed]"
    }
   },
   "cell_type": "markdown",
   "metadata": {},
   "source": [
    "![Pattern%2024.jpg](attachment:Pattern%2024.jpg)"
   ]
  },
  {
   "cell_type": "code",
   "execution_count": 24,
   "metadata": {},
   "outputs": [
    {
     "name": "stdout",
     "output_type": "stream",
     "text": [
      "##        ####        ####        ####        ##\n",
      "##  ####  ####  ####  ####  ####  ####  ####  ##\n",
      "##  ####  ####  ####  ####  ####  ####  ####  ##\n",
      "    ####        ####        ####        ####    \n"
     ]
    }
   ],
   "source": [
    "wH = 4  # 1\n",
    "wL = 4  # 2\n",
    "\n",
    "for x in range(1, wH + 1):\n",
    "    for y in range(1, wL + 1):\n",
    "        if (x != wH):\n",
    "            print(\"##\", end=\"\")\n",
    "        else:\n",
    "            print(\"  \", end=\"\")  # 3\n",
    "        for z in range(1, 5):\n",
    "            if (x == 1 or z == 1 or z == 4):\n",
    "                print(\"  \", end=\"\")  # 3\n",
    "            else:\n",
    "                print(\"##\", end=\"\")\n",
    "\n",
    "        if (x != wH):\n",
    "            print(\"##\", end=\"\")\n",
    "        else:\n",
    "            print(\"  \", end=\"\")  # 3\n",
    "    print()\n",
    "\n",
    "    \"\"\"\n",
    "1) wH - change value to increase/decrease the height of the wave\n",
    "2) wL - change value to increase/decrease the length of the wave\n",
    "3) 2 whitespaces\n",
    "\n",
    "    \"\"\""
   ]
  },
  {
   "attachments": {
    "Pattern%2025.jpg": {
     "image/jpeg": "[encoded data removed]"
    }
   },
   "cell_type": "markdown",
   "metadata": {},
   "source": [
    "![Pattern%2025.jpg](attachment:Pattern%2025.jpg)"
   ]
  },
  {
   "cell_type": "code",
   "execution_count": 25,
   "metadata": {},
   "outputs": [
    {
     "name": "stdout",
     "output_type": "stream",
     "text": [
      "*       * *       * *       * *       * \n",
      "  *   *     *   *     *   *     *   *   \n",
      "    *         *         *         *     \n",
      "  *   *     *   *     *   *     *   *   \n",
      "*       * *       * *       * *       * \n"
     ]
    }
   ],
   "source": [
    "wH = 5  # 1\n",
    "wL = 4  # 2\n",
    "\n",
    "for x in range(1, wH + 1):\n",
    "    for y in range(1, wL + 1):\n",
    "        for z in range(1, wH + 1):\n",
    "            if (x == z or x + z == wH + 1):\n",
    "                print(\"*\", end=\" \")\n",
    "            else:\n",
    "                print(\" \", end=\" \")  # 3\n",
    "    print()\n",
    "\n",
    "    \"\"\"\n",
    "1) wH - change value to increase/decrease the height of the wave\n",
    "2) wL - change value to increase/decrease the length of the wave\n",
    "3) single whitespaces\n",
    "    \"\"\""
   ]
  },
  {
   "attachments": {
    "Pattern%2026.jpg": {
     "image/jpeg": "[encoded data removed]"
    }
   },
   "cell_type": "markdown",
   "metadata": {},
   "source": [
    "![Pattern%2026.jpg](attachment:Pattern%2026.jpg)"
   ]
  },
  {
   "cell_type": "code",
   "execution_count": 26,
   "metadata": {},
   "outputs": [
    {
     "name": "stdout",
     "output_type": "stream",
     "text": [
      "][      ][][      ][][      ][][      ][\n",
      "  ][  ][    ][  ][    ][  ][    ][  ][  \n",
      "    ][        ][        ][        ][    \n",
      "  ][  ][    ][  ][    ][  ][    ][  ][  \n",
      "][      ][][      ][][      ][][      ][\n"
     ]
    }
   ],
   "source": [
    "wH = 5  # 1\n",
    "wL = 4  # 2\n",
    "\n",
    "for x in range(1, wH + 1):\n",
    "    for y in range(1, wL + 1):\n",
    "        for z in range(1, wH + 1):\n",
    "            if (x == z or x + z == wH + 1):\n",
    "                print(\"][\", end=\"\")\n",
    "            else:\n",
    "                print(\"  \", end=\"\")  # 3\n",
    "    print()\n",
    "\n",
    "    \"\"\"\n",
    "1) wH - change value to increase/decrease the height of the wave\n",
    "2) wL - change value to increase/decrease the length of the wave\n",
    "3) 2 whitespaces\n",
    "    \"\"\""
   ]
  },
  {
   "attachments": {
    "Pattern%2027.jpg": {
     "image/jpeg": "[encoded data removed]"
    }
   },
   "cell_type": "markdown",
   "metadata": {},
   "source": [
    "![Pattern%2027.jpg](attachment:Pattern%2027.jpg)"
   ]
  },
  {
   "cell_type": "code",
   "execution_count": 27,
   "metadata": {},
   "outputs": [
    {
     "name": "stdout",
     "output_type": "stream",
     "text": [
      ">>      >>>>      >>>>      >>>>      >>\n",
      "  >>  >>    >>  >>    >>  >>    >>  >>  \n",
      "    >>        >>        >>        >>    \n",
      "  >>  >>    >>  >>    >>  >>    >>  >>  \n",
      ">>      >>>>      >>>>      >>>>      >>\n"
     ]
    }
   ],
   "source": [
    "wH = 5  # 1\n",
    "wL = 4  # 2\n",
    "\n",
    "for x in range(1, wH + 1):\n",
    "    for y in range(1, wL + 1):\n",
    "        for z in range(1, wH + 1):\n",
    "            if (x == z or x + z == wH + 1):\n",
    "                print(\">>\", end=\"\")\n",
    "            else:\n",
    "                print(\"  \", end=\"\")  # 3\n",
    "    print()\n",
    "\n",
    "    \"\"\"\n",
    "1) wH - change value to increase/decrease the height of the wave\n",
    "2) wL - change value to increase/decrease the length of the wave\n",
    "3) 2 whitespaces\n",
    "    \"\"\""
   ]
  }
 ],
 "metadata": {
  "kernelspec": {
   "display_name": "Python 3",
   "language": "python",
   "name": "python3"
  },
  "language_info": {
   "codemirror_mode": {
    "name": "ipython",
    "version": 3
   },
   "file_extension": ".py",
   "mimetype": "text/x-python",
   "name": "python",
   "nbconvert_exporter": "python",
   "pygments_lexer": "ipython3",
   "version": "3.7.4"
  }
 },
 "nbformat": 4,
 "nbformat_minor": 4
}
