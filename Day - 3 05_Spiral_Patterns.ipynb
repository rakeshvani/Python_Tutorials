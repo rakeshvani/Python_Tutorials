{
 "cells": [
  {
   "cell_type": "markdown",
   "metadata": {},
   "source": [
    "#  Spiral Patterns"
   ]
  },
  {
   "attachments": {
    "Spiral%201.jpg": {
     "image/jpeg": "[encoded data removed]"
    }
   },
   "cell_type": "markdown",
   "metadata": {},
   "source": [
    "![Spiral%201.jpg](attachment:Spiral%201.jpg)"
   ]
  },
  {
   "cell_type": "code",
   "execution_count": 1,
   "metadata": {},
   "outputs": [
    {
     "name": "stdout",
     "output_type": "stream",
     "text": [
      "01 02 03 04 05 \n",
      "16 17 18 19 06 \n",
      "15 24 25 20 07 \n",
      "14 23 22 21 08 \n",
      "13 12 11 10 09 \n"
     ]
    }
   ],
   "source": [
    "n = 5  # size\n",
    "\n",
    "# array with zero fill\n",
    "arr = [[0 for x in range(n)] for x in range(n)]\n",
    "\n",
    "x=0\n",
    "y=0\n",
    "z=1\n",
    "\n",
    "for ot in range((n // 2)+1):\n",
    "    if ot == n // 2:\n",
    "        z -= 1\n",
    "\n",
    "    for j in range(y, n - y):\n",
    "        arr[x][j] = z\n",
    "        z += 1\n",
    "\n",
    "    for i in range(x + 1, n - x - 1):\n",
    "        arr[i][n - y - 1] = z\n",
    "        z += 1\n",
    "\n",
    "    for j in range(n - y - 1, y-1,-1):\n",
    "        arr[n - x - 1][j] = z\n",
    "        z += 1\n",
    "\n",
    "    for i in range(n-x-2,x,-1):\n",
    "        arr[i][y] = z\n",
    "        z += 1\n",
    "\n",
    "    x+=1\n",
    "    y+=1\n",
    "\n",
    "for a in range(n):\n",
    "    for b in range(n):\n",
    "        print(\"{:02d} \".format(arr[a][b]), end=\"\")\n",
    "    print()"
   ]
  },
  {
   "attachments": {
    "Spiral%20Reverse.jpg": {
     "image/jpeg": "[encoded data removed]"
    }
   },
   "cell_type": "markdown",
   "metadata": {},
   "source": [
    "![Spiral%20Reverse.jpg](attachment:Spiral%20Reverse.jpg)"
   ]
  },
  {
   "cell_type": "code",
   "execution_count": 2,
   "metadata": {},
   "outputs": [
    {
     "name": "stdout",
     "output_type": "stream",
     "text": [
      "25 24 23 22 21 \n",
      "10 09 08 07 20 \n",
      "11 02 01 06 19 \n",
      "12 03 04 05 18 \n",
      "13 14 15 16 17 \n"
     ]
    }
   ],
   "source": [
    "n = 5  # size\n",
    "\n",
    "# array with zero fill\n",
    "arr = [[0 for x in range(n)] for x in range(n)]\n",
    "\n",
    "x=0\n",
    "y=0\n",
    "z=25\n",
    "\n",
    "for ot in range((n // 2)+1):\n",
    "    if ot == n // 2:\n",
    "        z += 1\n",
    "\n",
    "    for j in range(y, n - y):\n",
    "        arr[x][j] = z\n",
    "        z -= 1\n",
    "\n",
    "    for i in range(x + 1, n - x - 1):\n",
    "        arr[i][n - y - 1] = z\n",
    "        z -= 1\n",
    "\n",
    "    for j in range(n - y - 1, y-1,-1):\n",
    "        arr[n - x - 1][j] = z\n",
    "        z -= 1\n",
    "\n",
    "    for i in range(n-x-2,x,-1):\n",
    "        arr[i][y] = z\n",
    "        z -= 1\n",
    "\n",
    "    x+=1\n",
    "    y+=1\n",
    "\n",
    "for a in range(n):\n",
    "    for b in range(n):\n",
    "        print(\"{:02d} \".format(arr[a][b]), end=\"\")\n",
    "    print()"
   ]
  },
  {
   "attachments": {
    "Spiral%20Alphabets.jpg": {
     "image/jpeg": "[encoded data removed]"
    }
   },
   "cell_type": "markdown",
   "metadata": {},
   "source": [
    "![Spiral%20Alphabets.jpg](attachment:Spiral%20Alphabets.jpg)"
   ]
  },
  {
   "cell_type": "code",
   "execution_count": 3,
   "metadata": {},
   "outputs": [
    {
     "name": "stdout",
     "output_type": "stream",
     "text": [
      " A B C D E F G H\n",
      " B C D E F G H I\n",
      " A V W X Y Z I J\n",
      " Z U H I J A J K\n",
      " Y T G L K B K L\n",
      " X S F E D C L M\n",
      " W R Q P O N M N\n",
      " V U T S R Q P O\n"
     ]
    }
   ],
   "source": [
    "n = 8  # size\n",
    "\n",
    "# array with zero fill\n",
    "arr = [[0 for x in range(n)] for x in range(n)]\n",
    "\n",
    "x=0\n",
    "y=0\n",
    "z=0\n",
    "\n",
    "for ot in range((n // 2)+1):\n",
    "    if ot == n // 2:\n",
    "        z -= 1\n",
    "\n",
    "    for j in range(y, n - y):\n",
    "        arr[x][j] = z\n",
    "        z += 1\n",
    "\n",
    "    for i in range(x + 1, n - x - 1):\n",
    "        arr[i][n - y - 1] = z\n",
    "        z += 1\n",
    "\n",
    "    for j in range(n - y - 1, y-1,-1):\n",
    "        arr[n - x - 1][j] = z\n",
    "        z += 1\n",
    "\n",
    "    for i in range(n-x-2,x,-1):\n",
    "        arr[i][y] = z\n",
    "        z += 1\n",
    "\n",
    "    x+=1\n",
    "    y+=1\n",
    "\n",
    "for a in range(n):\n",
    "    for b in range(n):\n",
    "        if arr[a][b]>=26:\n",
    "            arr[a][b]%=26 #reset\n",
    "        print(\" \"+chr(arr[a][b]+65), end=\"\")\n",
    "    print()"
   ]
  },
  {
   "attachments": {
    "Spiral%20Number%20Zig%20Zag.jpg": {
     "image/jpeg": "[encoded data removed]"
    }
   },
   "cell_type": "markdown",
   "metadata": {},
   "source": [
    "![Spiral%20Number%20Zig%20Zag.jpg](attachment:Spiral%20Number%20Zig%20Zag.jpg)"
   ]
  },
  {
   "cell_type": "code",
   "execution_count": 4,
   "metadata": {},
   "outputs": [
    {
     "name": "stdout",
     "output_type": "stream",
     "text": [
      "01 02 03 04 \n",
      "08 07 06 05 \n",
      "09 10 11 12 \n",
      "16 15 14 13 \n",
      "17 18 19 20 \n",
      "24 23 22 21 \n",
      "25 26 27 28 \n",
      "32 31 30 29 \n",
      "33 34 35 36 \n",
      "40 39 38 37 \n"
     ]
    }
   ],
   "source": [
    "i = 1\n",
    "rows = 10\n",
    "k = 1\n",
    "\n",
    "for x in range(1, rows * 2 + 1, +2):\n",
    "    if k % 2 == 1:\n",
    "        print(\"{:02d} \".format(i), end=\"\")\n",
    "        print(\"{:02d} \".format(i + 1), end=\"\")\n",
    "        print(\"{:02d} \".format(i + 2), end=\"\")\n",
    "        print(\"{:02d} \".format(i + 3), end=\"\")\n",
    "        k += 1\n",
    "        i += 4\n",
    "    else:\n",
    "        print(\"{:02d} \".format(i + 3), end=\"\")\n",
    "        print(\"{:02d} \".format(i + 2), end=\"\")\n",
    "        print(\"{:02d} \".format(i + 1), end=\"\")\n",
    "        print(\"{:02d} \".format(i), end=\"\")\n",
    "        k += 1\n",
    "        i += 4\n",
    "    print()"
   ]
  },
  {
   "cell_type": "code",
   "execution_count": null,
   "metadata": {},
   "outputs": [],
   "source": []
  }
 ],
 "metadata": {
  "kernelspec": {
   "display_name": "Python 3",
   "language": "python",
   "name": "python3"
  },
  "language_info": {
   "codemirror_mode": {
    "name": "ipython",
    "version": 3
   },
   "file_extension": ".py",
   "mimetype": "text/x-python",
   "name": "python",
   "nbconvert_exporter": "python",
   "pygments_lexer": "ipython3",
   "version": "3.7.4"
  }
 },
 "nbformat": 4,
 "nbformat_minor": 4
}
